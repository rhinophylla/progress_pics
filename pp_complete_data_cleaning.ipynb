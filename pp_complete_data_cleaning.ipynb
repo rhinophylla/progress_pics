{
 "cells": [
  {
   "cell_type": "code",
   "execution_count": 1,
   "metadata": {},
   "outputs": [],
   "source": [
    "import pandas_profiling\n",
    "%matplotlib inline\n",
    "import pandas as pd\n",
    "import datetime as dt\n",
    "import re\n",
    "import matplotlib.pyplot as plt"
   ]
  },
  {
   "cell_type": "code",
   "execution_count": 2,
   "metadata": {},
   "outputs": [],
   "source": [
    "# Import dataframe containing the raw data\n",
    "pp_data = pd.read_csv(\"pp_data_1.csv\")"
   ]
  },
  {
   "cell_type": "code",
   "execution_count": 3,
   "metadata": {},
   "outputs": [
    {
     "name": "stdout",
     "output_type": "stream",
     "text": [
      "The raw data includes the following columns taken directly from r/progress_pics\n",
      "Index(['title', 'score', 'id', 'url', 'num_comments', 'created_utc', 'author',\n",
      "       'permalink', 'timestamp'],\n",
      "      dtype='object')\n"
     ]
    }
   ],
   "source": [
    "print(\"The raw data includes the following columns taken directly from r/progress_pics\")\n",
    "print(pp_data.columns)"
   ]
  },
  {
   "cell_type": "markdown",
   "metadata": {},
   "source": [
    "### Titles in the progress_pics subreddit are supposed to be formatted in the following manner:  \n",
    "Gender/Age/Height \\[Weight Before > Weight After = Total amount lost\\](Time period in months) Personal Title\n",
    "\n",
    "### Sample entry  \n",
    "\"M/26/6'0 \\[190lbs&gt;175lbs=15lbs loss\\] -2.5 years. All natural hard work.\"\n",
    "\n",
    "### Issues with processing  \n",
    "The formatting rules are not followed  \n",
    "Some posters use metric units or include English and metric units\n"
   ]
  },
  {
   "cell_type": "markdown",
   "metadata": {},
   "source": [
    "## Processing the title "
   ]
  },
  {
   "cell_type": "code",
   "execution_count": 4,
   "metadata": {},
   "outputs": [],
   "source": [
    "# function to process the title column and extract the sex, age, height, and starting and ending weights.  \n",
    "# In the future, extend the function to also extract the \"time period in months\" and the \"Personal Title\" \n",
    "\n",
    "def process_stats_regex_ver1(s):\n",
    "    stats = {}\n",
    "    clean_s = s.upper().lstrip().replace(' ', '')\n",
    "    #print(clean_s)\n",
    "    regex = re.compile(r\"^([^/]+)(?:/)([^/]+)(?:/)([^/]+)(?:[(\\[)(\\()(/)])(\\d+)(?:.*)(?:[&GTL;]{4}|[TO]{2}|-)(\\d+)\")\n",
    "    result = regex.search(clean_s)\n",
    "    if result:\n",
    "        #print((result.groups()))\n",
    "        return result.group(1), result.group(2), result.group(3), result.group(4), result.group(5)\n",
    "    else:\n",
    "        #return \"unknown\"\n",
    "        return \"unknown\", \"unknown\", \"unknown\", \"unknown\", \"unknown\"       "
   ]
  },
  {
   "cell_type": "code",
   "execution_count": 5,
   "metadata": {},
   "outputs": [],
   "source": [
    "# add new columns: 'sex', 'age', 'height', 'start_weight', 'end_weight'\n",
    "pp_data = pp_data.reindex(columns=['title', 'sex', 'age', 'height', 'start_weight', 'end_weight', 'score', 'timestamp','id', 'num_comments', 'created_utc', 'author', 'permalink'])"
   ]
  },
  {
   "cell_type": "code",
   "execution_count": 6,
   "metadata": {},
   "outputs": [],
   "source": [
    "# populate the new columns using the process_stats_regex_ver1 function\n",
    "pp_data[[\"sex\", \"age\", \"height\", \"start_weight\", \"end_weight\"]] = pp_data.apply(lambda row: process_stats_regex_ver1(row[\"title\"]), axis=1, result_type=\"expand\")"
   ]
  },
  {
   "cell_type": "code",
   "execution_count": 7,
   "metadata": {},
   "outputs": [],
   "source": [
    "# Many of the entries that were processed incorrectly can be identified by having\n",
    "# a height entry that contains portions of the title past the height regions.  Started with 27464 entries, 20162 have a\n",
    "# height <= 6 characters so were processed correctly.  Wrote another processing funtion that fixes a small number of \n",
    "# the incorrectly processed entries.  \n",
    "\n",
    "def process_stats_regex_ver2(s):\n",
    "    stats = {}\n",
    "    clean_s = s.upper().lstrip().replace(' ', '')\n",
    "    #print(clean_s)\n",
    "    regex = re.compile(r\"^([^/]+)(?:/)([^/]+)(?:/)([^/]+)(?:[(\\[)(\\()(/)])(\\d+)(?:[&GTL;]{4}|[TO]{2}|-)(\\d+)\")\n",
    "    result = regex.search(clean_s)\n",
    "    if result:\n",
    "        #print((result.groups()))\n",
    "        return result.group(1), result.group(2), result.group(3), result.group(4), result.group(5)\n",
    "    else:\n",
    "        #return \"unknown\"\n",
    "        return \"unknown\", \"unknown\", \"unknown\", \"unknown\", \"unknown\""
   ]
  },
  {
   "cell_type": "code",
   "execution_count": 8,
   "metadata": {},
   "outputs": [],
   "source": [
    "# spilt df into those with correct and incorrect height entries\n",
    "just_right = pp_data[pp_data[\"height\"].str.len() <=6]\n",
    "too_long = pp_data[pp_data[\"height\"].str.len() > 6]"
   ]
  },
  {
   "cell_type": "code",
   "execution_count": 9,
   "metadata": {},
   "outputs": [
    {
     "name": "stderr",
     "output_type": "stream",
     "text": [
      "/Users/ajwright/anaconda3/lib/python3.6/site-packages/pandas/core/frame.py:3137: SettingWithCopyWarning: \n",
      "A value is trying to be set on a copy of a slice from a DataFrame.\n",
      "Try using .loc[row_indexer,col_indexer] = value instead\n",
      "\n",
      "See the caveats in the documentation: http://pandas.pydata.org/pandas-docs/stable/indexing.html#indexing-view-versus-copy\n",
      "  self[k1] = value[k2]\n"
     ]
    }
   ],
   "source": [
    "# reprocess the too long entries with process_stats_regex_ver2 and pull out those with the correct height entry\n",
    "\n",
    "too_long[[\"sex\", \"age\", \"height\", \"start_weight\", \"end_weight\"]] = too_long.apply(lambda row: process_stats_regex_ver2(row[\"title\"]), axis=1, result_type=\"expand\")\n",
    "now_just_right = too_long[too_long[\"height\"].str.len() <= 6]\n",
    "\n",
    "# How to fix this error?"
   ]
  },
  {
   "cell_type": "code",
   "execution_count": 10,
   "metadata": {},
   "outputs": [],
   "source": [
    "# concat the two df containing correctly processed titles and reindex \n",
    "\n",
    "frames = [just_right, now_just_right]\n",
    "pp_data = pd.concat(frames)\n",
    "pp_data.reset_index(inplace=True, drop=True)"
   ]
  },
  {
   "cell_type": "code",
   "execution_count": 11,
   "metadata": {},
   "outputs": [],
   "source": [
    "# This misprocessing is actually a large problem that also results in the wrong number being entered in the \"end_weight\"\n",
    "# column.  Need to address! "
   ]
  },
  {
   "cell_type": "markdown",
   "metadata": {},
   "source": [
    "## Cleaning the sex column"
   ]
  },
  {
   "cell_type": "code",
   "execution_count": 12,
   "metadata": {},
   "outputs": [],
   "source": [
    "#function that processes the sex column and returns M, F or unknown if the sex column contains and age (2 digits) \n",
    "# and cannot be processed\n",
    "def clean_sex(s):\n",
    "    if s == \"M\" or s == \"F\":\n",
    "        return s\n",
    "    elif s == \"MALE\":       \n",
    "        return \"M\"\n",
    "    elif s == \"FEMALE\":\n",
    "        return \"F\"\n",
    "    elif s.isdigit():\n",
    "        return \"unknown\"\n",
    "    else:\n",
    "        return s[-1]"
   ]
  },
  {
   "cell_type": "code",
   "execution_count": 13,
   "metadata": {},
   "outputs": [],
   "source": [
    "# apply clean_sex function to the df; store results in \"clean_sex\" column then reorder the columns of the df\n",
    "\n",
    "pp_data[\"clean_sex\"] = pp_data[\"sex\"].apply(clean_sex)\n",
    "pp_data = pp_data.reindex(columns=['title', 'sex', 'clean_sex','age', 'height', 'start_weight', 'end_weight', 'score', 'timestamp','id', 'num_comments', 'created_utc', 'author', 'permalink'])\n"
   ]
  },
  {
   "cell_type": "code",
   "execution_count": 14,
   "metadata": {},
   "outputs": [],
   "source": [
    "# seperate df on the basis of if clean_sex is \"unknown\" or not - 233 are unknown meaning they have a digit\n",
    "\n",
    "sex_known = pp_data[pp_data[\"clean_sex\"] != 'unknown']\n",
    "sex_unknown = pp_data[pp_data[\"clean_sex\"] == 'unknown']"
   ]
  },
  {
   "cell_type": "code",
   "execution_count": 15,
   "metadata": {},
   "outputs": [],
   "source": [
    "# Due to poster error, when the clean_sex column contains an age, then the age column usually contains the sex.  \n",
    "# Switch the sex and age column labels in the sex_unknown df\n",
    "\n",
    "sex_unknown.columns = ['title', 'age', 'clean_sex', 'sex', 'height', 'start_weight',\n",
    "       'end_weight', 'score', 'timestamp', 'id', 'num_comments', 'created_utc',\n",
    "       'author', 'permalink']"
   ]
  },
  {
   "cell_type": "code",
   "execution_count": 16,
   "metadata": {},
   "outputs": [
    {
     "name": "stderr",
     "output_type": "stream",
     "text": [
      "/Users/ajwright/anaconda3/lib/python3.6/site-packages/pandas/core/indexing.py:543: SettingWithCopyWarning: \n",
      "A value is trying to be set on a copy of a slice from a DataFrame.\n",
      "Try using .loc[row_indexer,col_indexer] = value instead\n",
      "\n",
      "See the caveats in the documentation: http://pandas.pydata.org/pandas-docs/stable/indexing.html#indexing-view-versus-copy\n",
      "  self.obj[item] = s\n"
     ]
    }
   ],
   "source": [
    "# Process the \"new\" sex column using clean_sex\n",
    "sex_unknown.loc[:, \"clean_sex\"] = sex_unknown.loc[:, \"sex\"].apply(clean_sex)\n",
    "\n",
    "# How to get rid of this error?"
   ]
  },
  {
   "cell_type": "code",
   "execution_count": 17,
   "metadata": {},
   "outputs": [],
   "source": [
    "# Identify rows in unknown_sex where the \"clean_sex\" now contains an \"M\" or \"F\n",
    "\n",
    "cleaned_unknown_sex = sex_unknown[(sex_unknown[\"clean_sex\"] == \"M\")|(sex_unknown[\"clean_sex\"] == \"F\")]"
   ]
  },
  {
   "cell_type": "code",
   "execution_count": 18,
   "metadata": {},
   "outputs": [],
   "source": [
    "# Switch the column order to match the sex_known df before concatenation \n",
    "\n",
    "cleaned_unknown_sex = cleaned_unknown_sex.reindex(columns=['title', 'sex', 'clean_sex', 'age', 'height', 'start_weight',\n",
    "       'end_weight', 'score', 'timestamp', 'id', 'num_comments', 'created_utc',\n",
    "       'author', 'permalink'])"
   ]
  },
  {
   "cell_type": "code",
   "execution_count": 19,
   "metadata": {},
   "outputs": [],
   "source": [
    "# Concatenate the df and reindex\n",
    "\n",
    "frames = [sex_known, cleaned_unknown_sex]\n",
    "pp_data = pd.concat(frames)\n",
    "pp_data.reset_index(inplace=True, drop=True)"
   ]
  },
  {
   "cell_type": "code",
   "execution_count": 20,
   "metadata": {},
   "outputs": [],
   "source": [
    "# Seperate all the entries that have only M and F in the clean_sex column\n",
    "\n",
    "pp_data = pp_data[(pp_data[\"clean_sex\"] == \"M\")|(pp_data[\"clean_sex\"] == \"F\")]"
   ]
  },
  {
   "cell_type": "markdown",
   "metadata": {},
   "source": [
    "## Cleaning the age column"
   ]
  },
  {
   "cell_type": "code",
   "execution_count": 21,
   "metadata": {},
   "outputs": [],
   "source": [
    "# Turns out 109 entries have ages in the heights columns.  Seperate out those entries into the age_info df, switch \n",
    "# the columns, update the original df with the new info. \n",
    "\n",
    "pattern = r\"([0-9]{2})\"\n",
    "age_info = pp_data[(pp_data[\"height\"].str.match(pattern))&(pp_data[\"height\"].str.len() == 2)]\n",
    "age_info.columns = ['title', 'sex', 'clean_sex', 'height', 'age', 'start_weight',\n",
    "       'end_weight', 'score', 'timestamp', 'id', 'num_comments', 'created_utc',\n",
    "       'author', 'permalink']\n",
    "pp_data.update(age_info)"
   ]
  },
  {
   "cell_type": "code",
   "execution_count": 22,
   "metadata": {},
   "outputs": [],
   "source": [
    "# only 79 entries with age length greater than 2 so filter those out, also filter out any that do not have 2 digits. \n",
    "\n",
    "pp_data = pp_data[pp_data[\"age\"].str.len() == 2]\n",
    "pattern = r\"(^[0-9]{2}?)\"\n",
    "pp_data = pp_data[pp_data[\"age\"].str.match(pattern)]\n",
    "\n"
   ]
  },
  {
   "cell_type": "code",
   "execution_count": 23,
   "metadata": {},
   "outputs": [],
   "source": [
    "# convert age from strings to integers\n",
    "\n",
    "pp_data[\"age\"] = pd.to_numeric(pp_data[\"age\"], errors='coerce')"
   ]
  },
  {
   "cell_type": "markdown",
   "metadata": {},
   "source": [
    "## Cleaning the height column"
   ]
  },
  {
   "cell_type": "code",
   "execution_count": 24,
   "metadata": {},
   "outputs": [],
   "source": [
    "# Strip out all non digit characters leaving behind just the numbers\n",
    "\n",
    "def number_height(s):\n",
    "    chars = list(s)\n",
    "    digit_chars = [c for c in chars if c.isdigit()]\n",
    "    number_s = \"\".join(digit_chars)\n",
    "    return number_s"
   ]
  },
  {
   "cell_type": "code",
   "execution_count": 25,
   "metadata": {},
   "outputs": [],
   "source": [
    "# apply number_height function to each height entry and store the results in num_height column\n",
    "\n",
    "pp_data[\"num_height\"] = pp_data[\"height\"].apply(number_height)"
   ]
  },
  {
   "cell_type": "code",
   "execution_count": 26,
   "metadata": {},
   "outputs": [],
   "source": [
    "# Measurements in feet will start with 3, 4, 5, while measurements in cm will start with 1.  The function below\n",
    "# converts num_height to the height in inches. \n",
    "\n",
    "def height_inches(s):\n",
    "    ft_list = [\"4\", \"5\", \"6\", \"7\"]\n",
    "    if s == '':\n",
    "        return \"unknown\"\n",
    "    elif s[0] == \"1\":\n",
    "        return int(s) * 0.39370079 \n",
    "    elif s[0] in ft_list:\n",
    "        if len(s) == 1:\n",
    "            return int(s) *12\n",
    "        elif len(s) == 3 and s[2] == \"5\":\n",
    "            return  (int(s[0]) * 12) + int(s[1]) + 0.5\n",
    "        else:\n",
    "            return (int(s[0]) * 12) + int(s[1:])\n",
    "    else:\n",
    "        return \"unknown\"\n"
   ]
  },
  {
   "cell_type": "code",
   "execution_count": 27,
   "metadata": {},
   "outputs": [],
   "source": [
    "# apply height_inches function to each num_height entry and store the results in height_in column\n",
    "\n",
    "pp_data[\"height_in\"] = pp_data[\"num_height\"].apply(height_inches)"
   ]
  },
  {
   "cell_type": "code",
   "execution_count": 28,
   "metadata": {},
   "outputs": [],
   "source": [
    "# convert height_in from strings to integers\n",
    "\n",
    "pp_data.loc[:,\"height_in\"] = pd.to_numeric(pp_data[\"height_in\"], errors='coerce')"
   ]
  },
  {
   "cell_type": "code",
   "execution_count": 29,
   "metadata": {},
   "outputs": [],
   "source": [
    "# remove entries with height outliers (< 4'6'' and > 7'1')\n",
    "\n",
    "pp_data = pp_data[(pp_data[\"height_in\"] > 54) & (pp_data[\"height_in\"] < 85)]"
   ]
  },
  {
   "cell_type": "code",
   "execution_count": 30,
   "metadata": {},
   "outputs": [],
   "source": [
    "# reorder the columns \n",
    "\n",
    "pp_data = pp_data.reindex(columns=['title', 'sex', 'clean_sex', 'age', 'height', 'num_height', 'height_in','start_weight',\n",
    "       'end_weight', 'score', 'timestamp', 'id', 'num_comments', 'created_utc',\n",
    "       'author', 'permalink'])"
   ]
  },
  {
   "cell_type": "markdown",
   "metadata": {},
   "source": [
    "## Cleaning the weight columns "
   ]
  },
  {
   "cell_type": "code",
   "execution_count": 31,
   "metadata": {},
   "outputs": [],
   "source": [
    "# Create 2 columns to hold the processed weight columns \"new_start_weight\" and \"new_end_weight\"\n",
    "\n",
    "pp_data = pp_data.reindex(columns=['title', 'sex', 'clean_sex', 'age', 'height', 'num_height', 'height_in',\n",
    "       'start_weight', 'new_start_weight','end_weight', 'new_end_weight', 'score', 'timestamp', 'id',\n",
    "       'num_comments', 'created_utc', 'author', 'permalink'], fill_value=0)"
   ]
  },
  {
   "cell_type": "code",
   "execution_count": 32,
   "metadata": {},
   "outputs": [],
   "source": [
    "# Change dtypes of the start_weight and end_weight columns\n",
    "\n",
    "pp_data.loc[:,\"start_weight\"] = pd.to_numeric(pp_data[\"start_weight\"], errors='coerce')\n",
    "pp_data.loc[:,\"end_weight\"] = pd.to_numeric(pp_data[\"end_weight\"], errors='coerce')"
   ]
  },
  {
   "cell_type": "code",
   "execution_count": 33,
   "metadata": {},
   "outputs": [],
   "source": [
    "# to identify weights in kgs, looks for kg in the title using the regex pattern.  If found, process the start_weight\n",
    "# and end_weight like they are kg.  Multiple weights by 2.20462 to convert to lbs and store in the new weight columns\n",
    "\n",
    "pattern = r\"=\\s*\\d+\\s*KG\"\n",
    "pp_data.loc[pp_data.title.str.contains(pattern, case=False), \"new_start_weight\"] = pp_data.loc[pp_data.title.str.contains(pattern, case=False), \"start_weight\"] * 2.20462\n",
    "pp_data.loc[pp_data.title.str.contains(pattern, case=False), \"new_end_weight\"] = pp_data.loc[pp_data.title.str.contains(pattern, case=False), \"end_weight\"] * 2.20462\n"
   ]
  },
  {
   "cell_type": "code",
   "execution_count": 34,
   "metadata": {},
   "outputs": [],
   "source": [
    "# the regex pattern missed some weights in kgs so also screen for start_weight < 130 and the letters \"kg\" anywhere \n",
    "# in the title (along the new weight column == 0 indicating it wasn't processed the first time).  Multiple by 2.20462 \n",
    "# to convert to lbs and store in the new weight columns.\n",
    "\n",
    "pp_data.loc[(pp_data.start_weight < 130) & pp_data.title.str.contains(\"kg\", case=False) & (pp_data.new_start_weight == 0), \"new_start_weight\"] = pp_data.loc[(pp_data.start_weight < 130) & pp_data.title.str.contains(\"kg\", case=False) & (pp_data.new_start_weight == 0), \"start_weight\"] * 2.20462\n",
    "pp_data.loc[(pp_data.start_weight < 130) & pp_data.title.str.contains(\"kg\", case=False) & (pp_data.new_end_weight == 0), \"new_end_weight\"] = pp_data.loc[(pp_data.start_weight < 130) & pp_data.title.str.contains(\"kg\", case=False) & (pp_data.new_end_weight == 0), \"end_weight\"] * 2.20462\n"
   ]
  },
  {
   "cell_type": "code",
   "execution_count": 35,
   "metadata": {},
   "outputs": [],
   "source": [
    "# For all entries not processed above, copy the starting weights to the new weight columns with no modifications. \n",
    "\n",
    "pp_data.loc[(pp_data.new_start_weight == 0), \"new_start_weight\"] = pp_data.loc[(pp_data.new_start_weight == 0), \"start_weight\"]\n",
    "pp_data.loc[(pp_data.new_end_weight == 0), \"new_end_weight\"] = pp_data.loc[(pp_data.new_end_weight == 0), \"end_weight\"]"
   ]
  },
  {
   "cell_type": "code",
   "execution_count": 36,
   "metadata": {},
   "outputs": [],
   "source": [
    "# trim off new_start_weight entries over 1000 lbs due to processing errors \n",
    "\n",
    "pp_data = pp_data[pp_data[\"new_start_weight\"] <= 1000]"
   ]
  },
  {
   "cell_type": "code",
   "execution_count": 37,
   "metadata": {},
   "outputs": [],
   "source": [
    "# trim off new_end_weight entries over 1000 lbs and less than 70 lbs due to processing errors\n",
    "\n",
    "pp_data = pp_data[pp_data['new_end_weight'] >=70]\n",
    "pp_data = pp_data[pp_data['new_end_weight'] < 1000]"
   ]
  },
  {
   "cell_type": "markdown",
   "metadata": {},
   "source": [
    "## Calculating weight gained/lost (\"weight_diff\" column)"
   ]
  },
  {
   "cell_type": "code",
   "execution_count": 38,
   "metadata": {},
   "outputs": [],
   "source": [
    "# populate 'weight_diff' column by subtracting new_end_weight from new_start_weight\n",
    "\n",
    "pp_data[\"weight_diff\"] = pp_data[\"new_start_weight\"] - pp_data[\"new_end_weight\"]"
   ]
  },
  {
   "cell_type": "code",
   "execution_count": 39,
   "metadata": {},
   "outputs": [],
   "source": [
    "# change column order\n",
    "\n",
    "pp_data = pp_data.reindex(columns=['title', 'sex', 'clean_sex', 'age', 'height', 'num_height', 'height_in',\n",
    "       'start_weight', 'new_start_weight', 'end_weight', 'new_end_weight', 'weight_diff',\n",
    "       'score', 'timestamp', 'id', 'num_comments', 'created_utc', 'author',\n",
    "       'permalink'])"
   ]
  },
  {
   "cell_type": "markdown",
   "metadata": {},
   "source": [
    "## Adding date time columns "
   ]
  },
  {
   "cell_type": "code",
   "execution_count": 40,
   "metadata": {},
   "outputs": [],
   "source": [
    "# Change timestamp from object to datetime\n",
    "\n",
    "pp_data[\"timestamp\"] = pd.to_datetime(pp_data[\"timestamp\"]) "
   ]
  },
  {
   "cell_type": "code",
   "execution_count": 41,
   "metadata": {},
   "outputs": [],
   "source": [
    "# Create columns to hold different date and time metrics \n",
    "\n",
    "pp_data[\"month\"] = pp_data[\"timestamp\"].dt.month\n",
    "pp_data[\"year\"] = pp_data[\"timestamp\"].dt.year\n",
    "pp_data[\"day\"] = pp_data[\"timestamp\"].dt.day\n",
    "pp_data[\"dayofweek\"] = pp_data[\"timestamp\"].dt.dayofweek\n",
    "pp_data[\"date\"] = pp_data[\"timestamp\"].dt.date\n",
    "pp_data[\"time\"] = pp_data[\"timestamp\"].dt.time"
   ]
  },
  {
   "cell_type": "code",
   "execution_count": 42,
   "metadata": {},
   "outputs": [],
   "source": [
    "# change column order\n",
    "\n",
    "pp_data = pp_data.reindex(columns=['title', 'clean_sex', 'age',  'height_in',\n",
    "       'new_start_weight', 'new_end_weight',\n",
    "       'weight_diff', 'score', 'num_comments', 'id', 'author', 'permalink', 'timestamp',\n",
    "       'date', 'time', 'year', 'month', 'day',  'dayofweek',\n",
    "       'sex', 'height', 'num_height', 'start_weight', 'end_weight', 'created_utc'])"
   ]
  },
  {
   "cell_type": "code",
   "execution_count": 43,
   "metadata": {},
   "outputs": [],
   "source": [
    "# rename some columns so the final versions have simpler names \n",
    "\n",
    "pp_data.columns = (['title', 'sex', 'age', 'height_in', 'start_weight',\n",
    "       'end_weight', 'weight_diff', 'score', 'num_comments', 'id',\n",
    "       'author', 'permalink', 'timestamp', 'date', 'time', 'year', 'month',\n",
    "       'day', 'dayofweek', 'ori_sex', 'height', 'num_height', 'ori_start_weight',\n",
    "       'ori_end_weight', 'created_utc'])"
   ]
  },
  {
   "cell_type": "markdown",
   "metadata": {},
   "source": [
    "## Save processed dataframe to a cvs file"
   ]
  },
  {
   "cell_type": "code",
   "execution_count": 44,
   "metadata": {},
   "outputs": [],
   "source": [
    "pp_data.to_csv(\"pp_data_2018_comp_final.csv\", index=False)"
   ]
  },
  {
   "cell_type": "code",
   "execution_count": 45,
   "metadata": {},
   "outputs": [
    {
     "data": {
      "text/html": [
       "<div>\n",
       "<style scoped>\n",
       "    .dataframe tbody tr th:only-of-type {\n",
       "        vertical-align: middle;\n",
       "    }\n",
       "\n",
       "    .dataframe tbody tr th {\n",
       "        vertical-align: top;\n",
       "    }\n",
       "\n",
       "    .dataframe thead th {\n",
       "        text-align: right;\n",
       "    }\n",
       "</style>\n",
       "<table border=\"1\" class=\"dataframe\">\n",
       "  <thead>\n",
       "    <tr style=\"text-align: right;\">\n",
       "      <th></th>\n",
       "      <th>title</th>\n",
       "      <th>sex</th>\n",
       "      <th>age</th>\n",
       "      <th>height_in</th>\n",
       "      <th>start_weight</th>\n",
       "      <th>end_weight</th>\n",
       "      <th>weight_diff</th>\n",
       "      <th>score</th>\n",
       "      <th>num_comments</th>\n",
       "      <th>id</th>\n",
       "      <th>...</th>\n",
       "      <th>year</th>\n",
       "      <th>month</th>\n",
       "      <th>day</th>\n",
       "      <th>dayofweek</th>\n",
       "      <th>ori_sex</th>\n",
       "      <th>height</th>\n",
       "      <th>num_height</th>\n",
       "      <th>ori_start_weight</th>\n",
       "      <th>ori_end_weight</th>\n",
       "      <th>created_utc</th>\n",
       "    </tr>\n",
       "  </thead>\n",
       "  <tbody>\n",
       "    <tr>\n",
       "      <th>0</th>\n",
       "      <td>M/22/6'3\" [290lbs &amp;gt; 185lbs = 105lbs] (2 yea...</td>\n",
       "      <td>M</td>\n",
       "      <td>22</td>\n",
       "      <td>75.0</td>\n",
       "      <td>290.0</td>\n",
       "      <td>185.0</td>\n",
       "      <td>105.0</td>\n",
       "      <td>246.0</td>\n",
       "      <td>10.0</td>\n",
       "      <td>7ru6qv</td>\n",
       "      <td>...</td>\n",
       "      <td>2018</td>\n",
       "      <td>1</td>\n",
       "      <td>20</td>\n",
       "      <td>5</td>\n",
       "      <td>M</td>\n",
       "      <td>6'3\"</td>\n",
       "      <td>63</td>\n",
       "      <td>290</td>\n",
       "      <td>185</td>\n",
       "      <td>1.516493e+09</td>\n",
       "    </tr>\n",
       "    <tr>\n",
       "      <th>2</th>\n",
       "      <td>F/23/5’0” [260 &amp;gt; 218 = 42lbs] (12 months) F...</td>\n",
       "      <td>F</td>\n",
       "      <td>23</td>\n",
       "      <td>60.0</td>\n",
       "      <td>260.0</td>\n",
       "      <td>218.0</td>\n",
       "      <td>42.0</td>\n",
       "      <td>210.0</td>\n",
       "      <td>5.0</td>\n",
       "      <td>7rvemg</td>\n",
       "      <td>...</td>\n",
       "      <td>2018</td>\n",
       "      <td>1</td>\n",
       "      <td>20</td>\n",
       "      <td>5</td>\n",
       "      <td>F</td>\n",
       "      <td>5’0”</td>\n",
       "      <td>50</td>\n",
       "      <td>260</td>\n",
       "      <td>218</td>\n",
       "      <td>1.516506e+09</td>\n",
       "    </tr>\n",
       "    <tr>\n",
       "      <th>3</th>\n",
       "      <td>F/24/5’3” (160 SW &amp;gt; 135 CW &amp;gt; 125 GW) 25l...</td>\n",
       "      <td>F</td>\n",
       "      <td>24</td>\n",
       "      <td>63.0</td>\n",
       "      <td>160.0</td>\n",
       "      <td>125.0</td>\n",
       "      <td>35.0</td>\n",
       "      <td>1.0</td>\n",
       "      <td>1.0</td>\n",
       "      <td>7rvnzq</td>\n",
       "      <td>...</td>\n",
       "      <td>2018</td>\n",
       "      <td>1</td>\n",
       "      <td>20</td>\n",
       "      <td>5</td>\n",
       "      <td>F</td>\n",
       "      <td>5’3”</td>\n",
       "      <td>53</td>\n",
       "      <td>160</td>\n",
       "      <td>125</td>\n",
       "      <td>1.516509e+09</td>\n",
       "    </tr>\n",
       "    <tr>\n",
       "      <th>4</th>\n",
       "      <td>F/48/5’6” [326 lbs &amp;gt; 180lbs= 146 lbs lost] ...</td>\n",
       "      <td>F</td>\n",
       "      <td>48</td>\n",
       "      <td>66.0</td>\n",
       "      <td>326.0</td>\n",
       "      <td>180.0</td>\n",
       "      <td>146.0</td>\n",
       "      <td>3163.0</td>\n",
       "      <td>144.0</td>\n",
       "      <td>7rvoaj</td>\n",
       "      <td>...</td>\n",
       "      <td>2018</td>\n",
       "      <td>1</td>\n",
       "      <td>20</td>\n",
       "      <td>5</td>\n",
       "      <td>F</td>\n",
       "      <td>5’6”</td>\n",
       "      <td>56</td>\n",
       "      <td>326</td>\n",
       "      <td>180</td>\n",
       "      <td>1.516509e+09</td>\n",
       "    </tr>\n",
       "    <tr>\n",
       "      <th>5</th>\n",
       "      <td>F/38/5'7\" [204lbs &amp;gt; 141lbs = 63lbs] (1 year...</td>\n",
       "      <td>F</td>\n",
       "      <td>38</td>\n",
       "      <td>67.0</td>\n",
       "      <td>204.0</td>\n",
       "      <td>141.0</td>\n",
       "      <td>63.0</td>\n",
       "      <td>212.0</td>\n",
       "      <td>24.0</td>\n",
       "      <td>7rvpuq</td>\n",
       "      <td>...</td>\n",
       "      <td>2018</td>\n",
       "      <td>1</td>\n",
       "      <td>20</td>\n",
       "      <td>5</td>\n",
       "      <td>F</td>\n",
       "      <td>5'7\"</td>\n",
       "      <td>57</td>\n",
       "      <td>204</td>\n",
       "      <td>141</td>\n",
       "      <td>1.516510e+09</td>\n",
       "    </tr>\n",
       "  </tbody>\n",
       "</table>\n",
       "<p>5 rows × 25 columns</p>\n",
       "</div>"
      ],
      "text/plain": [
       "                                               title sex  age  height_in  \\\n",
       "0  M/22/6'3\" [290lbs &gt; 185lbs = 105lbs] (2 yea...   M   22       75.0   \n",
       "2  F/23/5’0” [260 &gt; 218 = 42lbs] (12 months) F...   F   23       60.0   \n",
       "3  F/24/5’3” (160 SW &gt; 135 CW &gt; 125 GW) 25l...   F   24       63.0   \n",
       "4  F/48/5’6” [326 lbs &gt; 180lbs= 146 lbs lost] ...   F   48       66.0   \n",
       "5  F/38/5'7\" [204lbs &gt; 141lbs = 63lbs] (1 year...   F   38       67.0   \n",
       "\n",
       "   start_weight  end_weight  weight_diff   score  num_comments      id  \\\n",
       "0         290.0       185.0        105.0   246.0          10.0  7ru6qv   \n",
       "2         260.0       218.0         42.0   210.0           5.0  7rvemg   \n",
       "3         160.0       125.0         35.0     1.0           1.0  7rvnzq   \n",
       "4         326.0       180.0        146.0  3163.0         144.0  7rvoaj   \n",
       "5         204.0       141.0         63.0   212.0          24.0  7rvpuq   \n",
       "\n",
       "       ...       year month day dayofweek ori_sex  height  num_height  \\\n",
       "0      ...       2018     1  20         5       M    6'3\"          63   \n",
       "2      ...       2018     1  20         5       F    5’0”          50   \n",
       "3      ...       2018     1  20         5       F    5’3”          53   \n",
       "4      ...       2018     1  20         5       F    5’6”          56   \n",
       "5      ...       2018     1  20         5       F    5'7\"          57   \n",
       "\n",
       "   ori_start_weight  ori_end_weight   created_utc  \n",
       "0               290             185  1.516493e+09  \n",
       "2               260             218  1.516506e+09  \n",
       "3               160             125  1.516509e+09  \n",
       "4               326             180  1.516509e+09  \n",
       "5               204             141  1.516510e+09  \n",
       "\n",
       "[5 rows x 25 columns]"
      ]
     },
     "execution_count": 45,
     "metadata": {},
     "output_type": "execute_result"
    }
   ],
   "source": [
    "pp_data.head()"
   ]
  },
  {
   "cell_type": "code",
   "execution_count": null,
   "metadata": {},
   "outputs": [],
   "source": []
  }
 ],
 "metadata": {
  "kernelspec": {
   "display_name": "Python 3",
   "language": "python",
   "name": "python3"
  },
  "language_info": {
   "codemirror_mode": {
    "name": "ipython",
    "version": 3
   },
   "file_extension": ".py",
   "mimetype": "text/x-python",
   "name": "python",
   "nbconvert_exporter": "python",
   "pygments_lexer": "ipython3",
   "version": "3.6.5"
  }
 },
 "nbformat": 4,
 "nbformat_minor": 2
}
