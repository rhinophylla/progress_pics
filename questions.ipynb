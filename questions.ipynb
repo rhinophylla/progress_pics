{
 "cells": [
  {
   "cell_type": "code",
   "execution_count": 3,
   "metadata": {},
   "outputs": [],
   "source": [
    "import pandas_profiling\n",
    "%matplotlib inline\n",
    "import pandas as pd\n",
    "import datetime as dt\n",
    "import re\n",
    "import matplotlib.pyplot as plt"
   ]
  },
  {
   "cell_type": "code",
   "execution_count": 5,
   "metadata": {},
   "outputs": [
    {
     "name": "stdout",
     "output_type": "stream",
     "text": [
      "M/22/6'3[290LBS&GT;185LBS=105LBS](24YEA..\n",
      "('M', '22', \"6'3\", '290', '185')\n",
      "None\n",
      "F/27/5'10\"[355LBS&GT;340LBS=15LBS](&GT;1MONTH)ONLYABOUT3WEEKSOFKETO\n",
      "('F', '27', '5\\'10\"', '355', '1')\n",
      "None\n",
      "M/26/6'0[190LBS&GT;175LBS=15LBSLOSS]-2.5YEARS.ALLNATURALHARDWORK.\n",
      "('M', '26', \"6'0\", '190', '2')\n",
      "None\n",
      "F/25/5'2\"[126LBS&GT;106LBS=20LBS]SOBRIETYISBEAUTIFUL-295DAYS\n",
      "('F', '25', '5\\'2\"', '126', '295')\n",
      "None\n"
     ]
    }
   ],
   "source": [
    "# Why aren't sample and sample 7 processed the same?  Sample 1 is processed correctly, samples 6, 7 and 8 are not. \n",
    "def get_stats_regex_ver2(s):\n",
    "    clean_s = s.upper().lstrip().replace(' ', '')\n",
    "    print(clean_s)\n",
    "    regex = re.compile(r\"^([^/]+)(?:/)([^/]+)(?:/)([^/]+)(?:[(\\[)(\\()(/)])(\\d+)(?:.*)(?:[&GTL;]{4}|[TO]{2}|-)(\\d+)\")\n",
    "    #(?:[(\\[)(\\(])\n",
    "    result = regex.search(clean_s) \n",
    "    if result:\n",
    "        print((result.groups()))\n",
    "        \n",
    "sample = \"M/22/6'3 [290lbs &gt; 185lbs = 105lbs] (24 yea..\" \n",
    "sample1 = \"M/22/6'3 [290lbs to 185lbs = 105lbs] (24 yea..\" \n",
    "sample2 = \"M/23/6'0 (300lbs &GT;249=51)JUSTSHORTOF10MONTHS!PLATEAU\"\n",
    "sample3 = \"M/33/5'10/230-168LBS=62LBS1.5YEARSWITHADOUBLEHERNIASURGERY3MONTHSAGO..\"\n",
    "sample4 = \"Female/21/5'11 161 lbs to 155 lbs\"\n",
    "sample5 = \"I love cats!!! M/22/6'3 [290lbs &gt; 185lbs = 105lbs] (24 yea..\"\n",
    "sample6 = 'F/27/5\\'10\" [355lbs &gt; 340lbs = 15lbs] (&gt;1 month) only about 3 weeks of keto'\n",
    "sample7 = \"M/26/6'0 [190lbs&gt;175lbs=15lbs loss] -2.5 years. All natural hard work.\"\n",
    "sample8 = 'F/25/5\\'2\" [ 126lbs&gt;106lbs=20lbs ] sobriety is beautiful- 295 days'\n",
    "print(get_stats_regex_ver2(sample))\n",
    "print(get_stats_regex_ver2(sample6))\n",
    "print(get_stats_regex_ver2(sample7))   \n",
    "print(get_stats_regex_ver2(sample8))"
   ]
  },
  {
   "cell_type": "code",
   "execution_count": 6,
   "metadata": {},
   "outputs": [
    {
     "name": "stdout",
     "output_type": "stream",
     "text": [
      "M/22/6'3[290LBS&GT;185LBS=105LBS](24YEA..\n",
      "('M', '22', \"6'3[290LBS&GT;185LBS=105LBS]\", '2', '4')\n",
      "None\n",
      "F/27/5'10\"[355LBS&GT;340LBS=15LBS](&GT;1MONTH)ONLYABOUT3WEEKSOFKETO\n",
      "('F', '27', '5\\'10\"', '355', '340')\n",
      "None\n",
      "M/26/6'0[190LBS&GT;175LBS=15LBSLOSS]-2.5YEARS.ALLNATURALHARDWORK.\n",
      "('M', '26', \"6'0\", '190', '175')\n",
      "None\n",
      "F/25/5'2\"[126LBS&GT;106LBS=20LBS]SOBRIETYISBEAUTIFUL-295DAYS\n",
      "('F', '25', '5\\'2\"', '126', '106')\n",
      "None\n"
     ]
    }
   ],
   "source": [
    "# Why aren't sample and sample 7 not processed the same?  Samples 6, 7, 8 are processed correctly, sample is not.  \n",
    "def get_stats_regex_ver3(s):\n",
    "    clean_s = s.upper().lstrip().replace(' ', '')\n",
    "    print(clean_s)\n",
    "    regex = re.compile(r\"^([^/]+)(?:/)([^/]+)(?:/)([^/]+)(?:[(\\[)(\\()(/)])(\\d+)(?:\\D*?)(\\d+)\")\n",
    "    #(?:[(\\[)(\\(])\n",
    "    result = regex.search(clean_s) \n",
    "    if result:\n",
    "        print((result.groups()))\n",
    "        \n",
    "sample = \"M/22/6'3 [290lbs &gt; 185lbs = 105lbs] (24 yea..\" \n",
    "sample1 = \"M/22/6'3 [290lbs to 185lbs = 105lbs] (24 yea..\" \n",
    "sample2 = \"M/23/6'0 (300lbs &GT;249=51)JUSTSHORTOF10MONTHS!PLATEAU\"\n",
    "sample3 = \"M/33/5'10/230-168LBS=62LBS1.5YEARSWITHADOUBLEHERNIASURGERY3MONTHSAGO..\"\n",
    "sample4 = \"Female/21/5'11 161 lbs to 155 lbs\"\n",
    "sample5 = \"I love cats!!! M/22/6'3 [290lbs &gt; 185lbs = 105lbs] (24 yea..\"\n",
    "sample6 = 'F/27/5\\'10\" [355lbs &gt; 340lbs = 15lbs] (&gt;1 month) only about 3 weeks of keto'\n",
    "sample7 = \"M/26/6'0 [190lbs&gt;175lbs=15lbs loss] -2.5 years. All natural hard work.\"\n",
    "sample8 = 'F/25/5\\'2\" [ 126lbs&gt;106lbs=20lbs ] sobriety is beautiful- 295 days'\n",
    "print(get_stats_regex_ver3(sample))\n",
    "print(get_stats_regex_ver3(sample6))\n",
    "print(get_stats_regex_ver3(sample7))\n",
    "print(get_stats_regex_ver3(sample8))"
   ]
  },
  {
   "cell_type": "code",
   "execution_count": null,
   "metadata": {},
   "outputs": [],
   "source": []
  }
 ],
 "metadata": {
  "kernelspec": {
   "display_name": "Python 3",
   "language": "python",
   "name": "python3"
  },
  "language_info": {
   "codemirror_mode": {
    "name": "ipython",
    "version": 3
   },
   "file_extension": ".py",
   "mimetype": "text/x-python",
   "name": "python",
   "nbconvert_exporter": "python",
   "pygments_lexer": "ipython3",
   "version": "3.6.5"
  }
 },
 "nbformat": 4,
 "nbformat_minor": 2
}
